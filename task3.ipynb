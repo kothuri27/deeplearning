{
 "cells": [
  {
   "cell_type": "markdown",
   "id": "4266b7c1",
   "metadata": {},
   "source": [
    "# The Adding Problem:\n",
    "## Manish \n",
    "## CS22MTECH11008"
   ]
  },
  {
   "cell_type": "markdown",
   "id": "46eaf93f",
   "metadata": {},
   "source": [
    "<hr style=\"border:2px solid gray\"> \n"
   ]
  },
  {
   "cell_type": "markdown",
   "id": "6e1612b2",
   "metadata": {},
   "source": [
    "# Importing Libraries"
   ]
  },
  {
   "cell_type": "code",
   "execution_count": 1,
   "id": "65c34add",
   "metadata": {},
   "outputs": [],
   "source": [
    "import numpy as np\n",
    "import torch\n",
    "import torch.nn as nn\n",
    "import torch.nn.functional as F\n",
    "import matplotlib.pyplot as plt"
   ]
  },
  {
   "cell_type": "markdown",
   "id": "ede053ba",
   "metadata": {},
   "source": [
    "<hr style=\"border:2px solid gray\"> \n"
   ]
  },
  {
   "cell_type": "markdown",
   "id": "d3ce6ef8",
   "metadata": {},
   "source": [
    "# Data generartion"
   ]
  },
  {
   "cell_type": "code",
   "execution_count": 2,
   "id": "391e2310",
   "metadata": {},
   "outputs": [],
   "source": [
    "def data_gen(N, seq_len_range=(3, 10), p=0.5, high=1):\n",
    "    X = []\n",
    "    Y = []\n",
    "    for i in range(N):\n",
    "        seq_len = np.random.randint(seq_len_range[0], seq_len_range[1] + 1)\n",
    "        X_num = np.random.uniform(low=0, high=high, size=(seq_len, 1))\n",
    "        X_mask = np.zeros((seq_len, 1))\n",
    "        positions = np.random.choice(seq_len, size=2, replace=False)\n",
    "        X_mask[positions] = 1\n",
    "        X.append(np.append(X_num, X_mask, axis=1))\n",
    "        Y.append(np.sum(X_num[positions]))\n",
    "    X = np.array(X, dtype=object)\n",
    "    Y = np.array(Y).reshape(N, 1)\n",
    "    return X, Y\n"
   ]
  },
  {
   "cell_type": "code",
   "execution_count": 3,
   "id": "dd43d8a0",
   "metadata": {},
   "outputs": [],
   "source": [
    "X,Y = data_gen(5000)"
   ]
  },
  {
   "cell_type": "code",
   "execution_count": 4,
   "id": "fd8e948f",
   "metadata": {},
   "outputs": [],
   "source": [
    "X = [torch.tensor(x, dtype=torch.float32) for x in X]\n",
    "Y = torch.tensor(Y, dtype=torch.float32)\n",
    "loss1=[]\n",
    "loss2=[]\n",
    "loss3=[]"
   ]
  },
  {
   "cell_type": "raw",
   "id": "db4d6d56",
   "metadata": {},
   "source": [
    "Breif about the models \n",
    "1)Hidden size is taken as 64\n",
    "2)Adam optimiser is used to optimise\n",
    "3)Mean Squared Error (MSE) Loss is used"
   ]
  },
  {
   "cell_type": "markdown",
   "id": "6142722c",
   "metadata": {},
   "source": [
    "<hr style=\"border:2px solid gray\"> \n"
   ]
  },
  {
   "cell_type": "markdown",
   "id": "81ddfe2b",
   "metadata": {},
   "source": [
    "# RNN-"
   ]
  },
  {
   "cell_type": "markdown",
   "id": "9fa1466b",
   "metadata": {},
   "source": [
    "## \\begin{align*}\n",
    "h_t &= f(W_{hh} h_{t-1} + W_{xh} x_t + b_h) \\\\\n",
    "y_t &= W_{hy} h_t + b_y\n",
    "\\end{align*}\n",
    "\n",
    "where $h_t$ is the hidden state vector at time $t$, $x_t$ is the input vector at time $t$, $y_t$ is the output vector at time $t$, $W_{hh}$ is the weight matrix for the recurrent connections, $W_{xh}$ is the weight matrix for the input connections, $W_{hy}$ is the weight matrix for the output connections, $b_h$ is the bias vector for the hidden state, and $b_y$ is the bias vector for the output.\n"
   ]
  },
  {
   "cell_type": "code",
   "execution_count": 5,
   "id": "6470aaaf",
   "metadata": {},
   "outputs": [],
   "source": [
    "class RNN(nn.Module):\n",
    "    def __init__(self, input_size, hidden_size,output_size=1):\n",
    "        super(RNN, self).__init__()\n",
    "        self.input_size = input_size\n",
    "        self.hidden_size = hidden_size\n",
    "        self.wx = nn.Linear(input_size, hidden_size)\n",
    "        self.wh = nn.Linear(hidden_size, hidden_size)\n",
    "        self.bias_h = nn.Parameter(torch.zeros(hidden_size))\n",
    "        self.bias_x = nn.Parameter(torch.zeros(input_size))\n",
    "        self.wy = nn.Linear(hidden_size, output_size)\n",
    "        self.y_bias = nn.Parameter(torch.zeros(output_size))\n",
    "        \n",
    "    def forward(self, x):\n",
    "        h = torch.zeros(self.hidden_size)\n",
    "        for xi in x:\n",
    "            wx_xi = self.wx(xi) \n",
    "            wh_h = self.wh(h) + self.bias_h\n",
    "            xih = wx_xi + wh_h\n",
    "            h = torch.tanh(xih)\n",
    "        y_pred = self.wy(h) + self.y_bias\n",
    "        \n",
    "        return y_pred\n"
   ]
  },
  {
   "cell_type": "code",
   "execution_count": 6,
   "id": "2b74f695",
   "metadata": {},
   "outputs": [
    {
     "name": "stdout",
     "output_type": "stream",
     "text": [
      "Epoch [1/10], Loss: 0.0837\n",
      "Epoch [2/10], Loss: 0.0189\n",
      "Epoch [3/10], Loss: 0.0099\n",
      "Epoch [4/10], Loss: 0.0074\n",
      "Epoch [5/10], Loss: 0.0059\n",
      "Epoch [6/10], Loss: 0.0050\n",
      "Epoch [7/10], Loss: 0.0045\n",
      "Epoch [8/10], Loss: 0.0040\n",
      "Epoch [9/10], Loss: 0.0036\n",
      "Epoch [10/10], Loss: 0.0034\n"
     ]
    }
   ],
   "source": [
    "# define the model, loss function, and optimizer\n",
    "input_size = X[0].shape[1]\n",
    "#print(input_size)\n",
    "hidden_size = 64\n",
    "model = RNN(input_size, hidden_size)\n",
    "criterion = nn.MSELoss()\n",
    "optimizer = torch.optim.Adam(model.parameters())\n",
    "\n",
    "# train the model\n",
    "num_epochs = 10\n",
    "for epoch in range(num_epochs):\n",
    "    running_loss = 0.0\n",
    "    for x, y_true in zip(X, Y):\n",
    "        optimizer.zero_grad()\n",
    "        #print(\"x\",x)\n",
    "        #print(x.shape)\n",
    "        y_pred = model.forward(x)\n",
    "        #print(\"y_pred= \",y_pred,\"y_actual =\",y_true)\n",
    "        loss = criterion(y_pred, y_true)\n",
    "        loss.backward()\n",
    "        optimizer.step()\n",
    "        running_loss += loss.item()\n",
    "        loss1.append(running_loss)\n",
    "    print('Epoch [%d/%d], Loss: %.4f' % (epoch+1, num_epochs, running_loss/5000))\n"
   ]
  },
  {
   "cell_type": "markdown",
   "id": "d9a86e37",
   "metadata": {},
   "source": [
    "<hr style=\"border:2px solid gray\"> "
   ]
  },
  {
   "cell_type": "markdown",
   "id": "733af9eb",
   "metadata": {},
   "source": [
    "# LSTM"
   ]
  },
  {
   "cell_type": "markdown",
   "id": "f25f5e7e",
   "metadata": {},
   "source": [
    "## \\begin{align*}\n",
    "f_t &= \\sigma(W_f \\cdot [h_{t-1}, x_t] + b_f) \\\\\n",
    "i_t &= \\sigma(W_i \\cdot [h_{t-1}, x_t] + b_i) \\\\\n",
    "\\tilde{C}_t &= \\tanh(W_C \\cdot [h_{t-1}, x_t] + b_C) \\\\\n",
    "C_t &= f_t \\odot C_{t-1} + i_t \\odot \\tilde{C}_t \\\\\n",
    "o_t &= \\sigma(W_o \\cdot [h_{t-1}, x_t] + b_o) \\\\\n",
    "h_t &= o_t \\odot \\tanh(C_t)\n",
    "\\end{align*}\n",
    "\n",
    "where $x_t$ is the input vector at time $t$, $h_{t-1}$ is the hidden state vector at time $t-1$, $f_t$ is the forget gate vector, $i_t$ is the input gate vector, $\\tilde{C}_t$ is the candidate cell state vector, $C_t$ is the cell state vector, $o_t$ is the output gate vector, $W_f$, $W_i$, $W_C$, $W_o$ are the weight matrices, $b_f$, $b_i$, $b_C$, $b_o$ are the bias vectors, $\\sigma$ is the sigmoid activation"
   ]
  },
  {
   "cell_type": "code",
   "execution_count": 7,
   "id": "23fa4b52",
   "metadata": {},
   "outputs": [],
   "source": [
    "class LSTM(nn.Module):\n",
    "    def __init__(self, input_size, hidden_size,output_size=1):\n",
    "        super(LSTM, self).__init__()\n",
    "        self.input_size = input_size\n",
    "        self.hidden_size = hidden_size\n",
    "        \n",
    "        # input gate\n",
    "        self.W_ii = nn.Linear(input_size, hidden_size)\n",
    "        self.W_hi = nn.Linear(hidden_size, hidden_size)\n",
    "        self.b_i = nn.Parameter(torch.zeros(hidden_size))\n",
    "        \n",
    "        # forget gate\n",
    "        self.W_if = nn.Linear(input_size, hidden_size)\n",
    "        self.W_hf = nn.Linear(hidden_size, hidden_size)\n",
    "        self.b_f = nn.Parameter(torch.zeros(hidden_size))\n",
    "        \n",
    "        # output gate\n",
    "        self.W_io = nn.Linear(input_size, hidden_size)\n",
    "        self.W_ho = nn.Linear(hidden_size, hidden_size)\n",
    "        self.b_o = nn.Parameter(torch.zeros(hidden_size))\n",
    "        \n",
    "        # cell state\n",
    "        self.W_ig = nn.Linear(input_size, hidden_size)\n",
    "        self.W_hg = nn.Linear(hidden_size, hidden_size)\n",
    "        self.b_g = nn.Parameter(torch.zeros(hidden_size))\n",
    "        \n",
    "        #final sate\n",
    "        self.wy1 = nn.Linear(hidden_size, output_size)\n",
    "        self.y_bias1 = nn.Parameter(torch.zeros(output_size))\n",
    "        \n",
    "    def forward(self, x):\n",
    "        # x has shape (seq_len, input_size)\n",
    "        seq_len = x.shape[0]\n",
    "        #print(seq_len)\n",
    "        h = torch.zeros(1, self.hidden_size)\n",
    "        c = torch.zeros(1, self.hidden_size)\n",
    "        \n",
    "        for t in range(seq_len):\n",
    "            i_t = torch.sigmoid(self.W_ii(x[t]) + self.W_hi(h) + self.b_i)\n",
    "            f_t = torch.sigmoid(self.W_if(x[t]) + self.W_hf(h) + self.b_f)\n",
    "            \n",
    "            # output gate\n",
    "            o_t = torch.sigmoid(self.W_io(x[t]) + self.W_ho(h) + self.b_o)\n",
    "            \n",
    "            # cell state\n",
    "            c_delta = torch.tanh(self.W_ig(x[t]) + self.W_hg(h) + self.b_g)\n",
    "            \n",
    "            # update cell state and hidden state\n",
    "            c = f_t * c + i_t * c_delta\n",
    "            h = o_t * torch.tanh(c)\n",
    "        #print(h)\n",
    "        y_pred = self.wy1(h) + self.y_bias1\n",
    "        return y_pred\n"
   ]
  },
  {
   "cell_type": "code",
   "execution_count": 8,
   "id": "5a6c2e02",
   "metadata": {},
   "outputs": [
    {
     "name": "stderr",
     "output_type": "stream",
     "text": [
      "/home/manish/.local/lib/python3.8/site-packages/torch/nn/modules/loss.py:536: UserWarning: Using a target size (torch.Size([1])) that is different to the input size (torch.Size([1, 1])). This will likely lead to incorrect results due to broadcasting. Please ensure they have the same size.\n",
      "  return F.mse_loss(input, target, reduction=self.reduction)\n"
     ]
    },
    {
     "name": "stdout",
     "output_type": "stream",
     "text": [
      "Epoch [1/10], Loss: 0.0349\n",
      "Epoch [2/10], Loss: 0.0018\n",
      "Epoch [3/10], Loss: 0.0012\n",
      "Epoch [4/10], Loss: 0.0009\n",
      "Epoch [5/10], Loss: 0.0007\n",
      "Epoch [6/10], Loss: 0.0005\n",
      "Epoch [7/10], Loss: 0.0005\n",
      "Epoch [8/10], Loss: 0.0004\n",
      "Epoch [9/10], Loss: 0.0004\n",
      "Epoch [10/10], Loss: 0.0003\n"
     ]
    }
   ],
   "source": [
    "# define the model, loss function, and optimizer\n",
    "input_size = X[0].shape[1]\n",
    "#print(input_size)\n",
    "hidden_size = 64\n",
    "model2 = LSTM(input_size,hidden_size)\n",
    "criterion = nn.MSELoss()\n",
    "optimizer = torch.optim.Adam(model2.parameters())\n",
    "\n",
    "# train the model\n",
    "num_epochs = 10\n",
    "for epoch in range(num_epochs):\n",
    "    running_loss = 0.0\n",
    "    for x, y_true in zip(X, Y):\n",
    "        optimizer.zero_grad()\n",
    "        #print(\"x\",x)\n",
    "        #print(x.shape)\n",
    "        y_pred = model2.forward(x)\n",
    "        #print(\"y_pred= \",y_pred,\"y_actual =\",y_true)\n",
    "        loss = criterion(y_pred, y_true)\n",
    "        loss.backward()\n",
    "        optimizer.step()\n",
    "        running_loss += loss.item()\n",
    "        loss2.append(running_loss)\n",
    "    print('Epoch [%d/%d], Loss: %.4f' % (epoch+1, num_epochs, running_loss/5000))\n"
   ]
  },
  {
   "cell_type": "markdown",
   "id": "0ad62798",
   "metadata": {},
   "source": [
    "<hr style=\"border:2px solid gray\"> \n"
   ]
  },
  {
   "cell_type": "markdown",
   "id": "f1f1129e",
   "metadata": {},
   "source": [
    "# GRU"
   ]
  },
  {
   "cell_type": "markdown",
   "id": "b7c46810",
   "metadata": {},
   "source": [
    "## \\begin{align*}\n",
    "z_t &= \\sigma(W_{xz} x_t + W_{hz} h_{t-1} + b_z) \\\\\n",
    "r_t &= \\sigma(W_{xr} x_t + W_{hr} h_{t-1} + b_r) \\\\\n",
    "\\tilde{h_t} &= \\tanh(W_{xh} x_t + r_t \\odot (W_{hh} h_{t-1}) + b_h) \\\\\n",
    "h_t &= (1 - z_t) \\odot h_{t-1} + z_t \\odot \\tilde{h_t}\n",
    "\\end{align*}\n",
    "\n",
    "where $h_t$ is the hidden state vector at time $t$, $x_t$ is the input vector at time $t$, $z_t$ is the update gate, $r_t$ is the reset gate, $\\tilde{h_t}$ is the candidate hidden state, $\\sigma$ is the sigmoid function, $\\odot$ represents element-wise multiplication, $W_{xz}$, $W_{xr}$, and $W_{xh}$ are the weight matrices for the input connections, $W_{hz}$, $W_{hr}$, and $W_{hh}$ are the weight matrices for the recurrent connections, $b_z$, $b_r$, and $b_h$ are the bias vectors.\n"
   ]
  },
  {
   "cell_type": "code",
   "execution_count": 9,
   "id": "fe617af6",
   "metadata": {},
   "outputs": [],
   "source": [
    "class GRU(nn.Module):\n",
    "    def __init__(self, input_size, hidden_size, output_size=1):\n",
    "        super(GRU, self).__init__()\n",
    "        self.input_size = input_size\n",
    "        self.hidden_size = hidden_size\n",
    "        \n",
    "        # reset gate\n",
    "        self.W_ir = nn.Linear(input_size, hidden_size)\n",
    "        self.W_hr = nn.Linear(hidden_size, hidden_size)\n",
    "        self.b_r = nn.Parameter(torch.zeros(hidden_size))\n",
    "        \n",
    "        # update gate\n",
    "        self.W_iz = nn.Linear(input_size, hidden_size)\n",
    "        self.W_hz = nn.Linear(hidden_size, hidden_size)\n",
    "        self.b_z = nn.Parameter(torch.zeros(hidden_size))\n",
    "        \n",
    "        # candidate hidden state\n",
    "        self.W_in = nn.Linear(input_size, hidden_size)\n",
    "        self.W_hn = nn.Linear(hidden_size, hidden_size)\n",
    "        self.b_n = nn.Parameter(torch.zeros(hidden_size))\n",
    "        \n",
    "        # final state\n",
    "        self.wy2= nn.Linear(hidden_size, output_size)\n",
    "        self.y_bias2= nn.Parameter(torch.zeros(output_size))\n",
    "        \n",
    "    def forward(self, x):\n",
    "        # x has shape (seq_len, input_size)\n",
    "        seq_len = x.shape[0]\n",
    "        h = torch.zeros(1, self.hidden_size)\n",
    "        \n",
    "        for t in range(seq_len):\n",
    "            r_t = torch.sigmoid(self.W_ir(x[t]) + self.W_hr(h) + self.b_r)\n",
    "            z_t = torch.sigmoid(self.W_iz(x[t]) + self.W_hz(h) + self.b_z)\n",
    "            n_t = torch.tanh(self.W_in(x[t]) + self.W_hn(r_t * h) + self.b_n)\n",
    "            \n",
    "            # update hidden state\n",
    "            h = (1 - z_t) * h + z_t * n_t\n",
    "        \n",
    "        y_pred = self.wy2(h) + self.y_bias2\n",
    "        return y_pred"
   ]
  },
  {
   "cell_type": "code",
   "execution_count": 10,
   "id": "c6059287",
   "metadata": {},
   "outputs": [
    {
     "name": "stdout",
     "output_type": "stream",
     "text": [
      "Epoch [1/10], Loss: 0.0216526\n",
      "Epoch [2/10], Loss: 0.0011346\n",
      "Epoch [3/10], Loss: 0.0007296\n",
      "Epoch [4/10], Loss: 0.0005288\n",
      "Epoch [5/10], Loss: 0.0004092\n",
      "Epoch [6/10], Loss: 0.0003502\n",
      "Epoch [7/10], Loss: 0.0002979\n",
      "Epoch [8/10], Loss: 0.0002545\n",
      "Epoch [9/10], Loss: 0.0002186\n",
      "Epoch [10/10], Loss: 0.0001910\n"
     ]
    }
   ],
   "source": [
    "# define the model, loss function, and optimizer\n",
    "input_size = X[0].shape[1]\n",
    "#print(input_size)\n",
    "hidden_size = 64\n",
    "model3 = GRU(input_size,hidden_size)\n",
    "criterion = nn.MSELoss()\n",
    "optimizer = torch.optim.Adam(model3.parameters())\n",
    "\n",
    "# train the model\n",
    "num_epochs = 10\n",
    "for epoch in range(num_epochs):\n",
    "    running_loss = 0.0\n",
    "    for x, y_true in zip(X, Y):\n",
    "        optimizer.zero_grad()\n",
    "        #print(\"x\",x)\n",
    "        #print(x.shape)\n",
    "        y_pred = model3.forward(x)\n",
    "        #print(\"y_pred= \",y_pred,\"y_actual =\",y_true)\n",
    "        loss = criterion(y_pred, y_true)\n",
    "        loss.backward()\n",
    "        optimizer.step()\n",
    "        running_loss += loss.item()\n",
    "        loss3.append(running_loss)\n",
    "    print('Epoch [%d/%d], Loss: %.7f' % (epoch+1, num_epochs, running_loss/5000))"
   ]
  },
  {
   "cell_type": "markdown",
   "id": "2199d950",
   "metadata": {},
   "source": [
    "<hr style=\"border:2px solid gray\"> \n"
   ]
  },
  {
   "cell_type": "markdown",
   "id": "bc34fb71",
   "metadata": {},
   "source": [
    "# LOSS VS ITERATIONS"
   ]
  },
  {
   "cell_type": "code",
   "execution_count": 11,
   "id": "8b76c95d",
   "metadata": {},
   "outputs": [
    {
     "data": {
      "image/png": "[encoded data removed]",
      "text/plain": [
       "<Figure size 640x480 with 1 Axes>"
      ]
     },
     "metadata": {},
     "output_type": "display_data"
    }
   ],
   "source": [
    "iterations = range(1,len(loss1)+ 1)\n",
    "# plot all loss lists on the same graph\n",
    "plt.plot(iterations, loss1, 'bo-', label='RNN')\n",
    "plt.plot(iterations, loss2, 'r*-', label='LSTM')\n",
    "plt.plot(iterations, loss3, 'gs-', label='GRU')\n",
    "\n",
    "# set x and y axis labels and legend\n",
    "plt.xlabel('iterations')\n",
    "plt.ylabel('Loss')\n",
    "plt.legend()\n",
    "\n",
    "plt.show()\n"
   ]
  },
  {
   "cell_type": "markdown",
   "id": "a9744793",
   "metadata": {},
   "source": [
    "<hr style=\"border:2px solid gray\"> \n"
   ]
  },
  {
   "cell_type": "markdown",
   "id": "67e117fb",
   "metadata": {},
   "source": [
    "# TESTING "
   ]
  },
  {
   "cell_type": "code",
   "execution_count": 12,
   "id": "d6b49ec3",
   "metadata": {},
   "outputs": [],
   "source": [
    "X_test,Y_test = data_gen(200)\n",
    "X_test = [torch.tensor(x, dtype=torch.float32) for x in X_test]\n",
    "Y_test = torch.tensor(Y_test, dtype=torch.float32)\n",
    "acc=[]\n",
    "x_l=[\"BASELINE\",\"RNN\",\"LSTM\",\"GRU\"]\n",
    "test_loss=[]"
   ]
  },
  {
   "cell_type": "markdown",
   "id": "9532abb3",
   "metadata": {},
   "source": [
    "## 1)BASELINE"
   ]
  },
  {
   "cell_type": "raw",
   "id": "609a1831",
   "metadata": {},
   "source": [
    "The BaseLine model is nothing but the worstcase ,the y_base is intialised to 1,for all values in the y.\n",
    "Taking this as base model,i have predicted the other given three models "
   ]
  },
  {
   "cell_type": "code",
   "execution_count": 13,
   "id": "fe254c1d",
   "metadata": {},
   "outputs": [
    {
     "name": "stdout",
     "output_type": "stream",
     "text": [
      "accuracy =  0.02\n"
     ]
    }
   ],
   "source": [
    "loss1=0\n",
    "y_base = torch.ones_like(Y_test)\n",
    "count = 0\n",
    "for i in range(Y_test.shape[0]):\n",
    "    for j in range(Y_test.shape[1]):\n",
    "        loss1=(Y_test[i][j]- y_base[i][j])\n",
    "        loss1=loss1**2\n",
    "        if (abs(Y_test[i][j]- y_base[i][j])<0.01):\n",
    "            count += 1\n",
    "acc.append(count/200)\n",
    "test_loss.append(loss1.item()/200)\n",
    "print(\"accuracy = \",count/200)"
   ]
  },
  {
   "cell_type": "markdown",
   "id": "ea34e164",
   "metadata": {},
   "source": [
    "## LSTM"
   ]
  },
  {
   "cell_type": "code",
   "execution_count": 14,
   "id": "e399acfa",
   "metadata": {},
   "outputs": [
    {
     "name": "stdout",
     "output_type": "stream",
     "text": [
      "accuracy =  0.2\n"
     ]
    }
   ],
   "source": [
    "count=0\n",
    "loss2=0;\n",
    "for x_test, y_test in zip(X_test, Y_test):\n",
    "        #print(\"x\",x)\n",
    "        #print(x.shape)\n",
    "        y_pred = model.forward(x_test)\n",
    "        loss2=(y_pred-y_test)\n",
    "        loss2=loss2**2\n",
    "        if(abs(y_pred-y_test)<0.01):\n",
    "            count=count+1\n",
    "acc.append(count/200) \n",
    "test_loss.append(loss2.item()/200)\n",
    "print(\"accuracy = \",count/200)"
   ]
  },
  {
   "cell_type": "markdown",
   "id": "e17ea5a5",
   "metadata": {},
   "source": [
    "## RNN"
   ]
  },
  {
   "cell_type": "code",
   "execution_count": 15,
   "id": "36bdf81d",
   "metadata": {},
   "outputs": [
    {
     "name": "stdout",
     "output_type": "stream",
     "text": [
      "accuracy =  0.39\n"
     ]
    }
   ],
   "source": [
    "count=0\n",
    "loss3=0\n",
    "for x_test, y_test in zip(X_test, Y_test):\n",
    "        #print(\"x\",x)\n",
    "        #print(x.shape)\n",
    "        y_pred = model2.forward(x_test)\n",
    "        loss3=(y_pred-y_test)\n",
    "        loss3=loss3**2\n",
    "        if(abs(y_pred-y_test)<0.01):\n",
    "            count=count+1\n",
    "acc.append(count/200)\n",
    "test_loss.append(loss3.item()/200)\n",
    "print(\"accuracy = \",count/200)            "
   ]
  },
  {
   "cell_type": "markdown",
   "id": "ee5fe081",
   "metadata": {},
   "source": [
    "## GRU"
   ]
  },
  {
   "cell_type": "code",
   "execution_count": 16,
   "id": "327bf57e",
   "metadata": {},
   "outputs": [
    {
     "name": "stdout",
     "output_type": "stream",
     "text": [
      "accuracy =  0.91\n"
     ]
    }
   ],
   "source": [
    "count=0\n",
    "loss4=0\n",
    "for x_test, y_test in zip(X_test, Y_test):\n",
    "        #print(\"x\",x)\n",
    "        #print(x.shape)\n",
    "        y_pred = model3.forward(x_test)\n",
    "        loss4=(y_pred-y_test)\n",
    "        loss4=loss4**2\n",
    "        if(abs(y_pred-y_test)<0.01):\n",
    "            count=count+1\n",
    "acc.append(count/200)   \n",
    "test_loss.append(loss4.item()/200)\n",
    "print(\"accuracy = \",count/200)           "
   ]
  },
  {
   "cell_type": "markdown",
   "id": "49e4bb33",
   "metadata": {},
   "source": [
    "<hr style=\"border:2px solid gray\"> \n"
   ]
  },
  {
   "cell_type": "markdown",
   "id": "fc0a7ff6",
   "metadata": {},
   "source": [
    "## GRAPHS"
   ]
  },
  {
   "cell_type": "markdown",
   "id": "89c4be81",
   "metadata": {},
   "source": [
    "GRAPH 1) -accuracy vs models \n",
    "      2)-loss vs models"
   ]
  },
  {
   "cell_type": "code",
   "execution_count": 17,
   "id": "6a5d3b12",
   "metadata": {},
   "outputs": [
    {
     "data": {
      "image/png": "[encoded data removed]",
      "text/plain": [
       "<Figure size 640x480 with 1 Axes>"
      ]
     },
     "metadata": {},
     "output_type": "display_data"
    }
   ],
   "source": [
    "plt.plot(x_l,acc)\n",
    "plt.xlabel('models')\n",
    "plt.ylabel('accuracy')\n",
    "plt.xticks(range(len(x_l)), x_l)\n",
    "#plt.yticks(range(len(acc)), acc)\n",
    "plt.ylim(0, 1)\n",
    "plt.show()"
   ]
  },
  {
   "cell_type": "code",
   "execution_count": 18,
   "id": "fa5584d2",
   "metadata": {},
   "outputs": [
    {
     "data": {
      "text/plain": [
       "[0.00040167596191167834,\n",
       " 1.013088272884488e-05,\n",
       " 3.546317748259753e-07,\n",
       " 8.04704995971406e-09]"
      ]
     },
     "execution_count": 18,
     "metadata": {},
     "output_type": "execute_result"
    }
   ],
   "source": [
    "test_loss"
   ]
  },
  {
   "cell_type": "code",
   "execution_count": 19,
   "id": "e2f32aa8",
   "metadata": {},
   "outputs": [
    {
     "data": {
      "image/png": "[encoded data removed]",
      "text/plain": [
       "<Figure size 640x480 with 1 Axes>"
      ]
     },
     "metadata": {},
     "output_type": "display_data"
    }
   ],
   "source": [
    "plt.plot(x_l,test_loss)\n",
    "plt.xlabel('models')\n",
    "plt.ylabel('TEST_LOSS')\n",
    "plt.xticks(range(len(x_l)), x_l)\n",
    "#plt.yticks(range(len(acc)), acc)\n",
    "#plt.ylim(0, 1)\n",
    "plt.show()"
   ]
  },
  {
   "cell_type": "markdown",
   "id": "97c8f284",
   "metadata": {},
   "source": [
    "<hr style=\"border:2px solid gray\"> \n"
   ]
  }
 ],
 "metadata": {
  "kernelspec": {
   "display_name": "Python 3 (ipykernel)",
   "language": "python",
   "name": "python3"
  },
  "language_info": {
   "codemirror_mode": {
    "name": "ipython",
    "version": 3
   },
   "file_extension": ".py",
   "mimetype": "text/x-python",
   "name": "python",
   "nbconvert_exporter": "python",
   "pygments_lexer": "ipython3",
   "version": "3.8.10"
  }
 },
 "nbformat": 4,
 "nbformat_minor": 5
}
